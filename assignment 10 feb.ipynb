{
 "cells": [
  {
   "cell_type": "code",
   "execution_count": 6,
   "id": "1d96ed67-ac04-44a2-8277-e88195af92aa",
   "metadata": {},
   "outputs": [],
   "source": [
    "#Q1. Which function is used to open a file? What are the different modes of opening a file? Explain each mode\n",
    "#of file opening."
   ]
  },
  {
   "cell_type": "code",
   "execution_count": 13,
   "id": "c33746c3-b2e2-4ac6-a5e7-1621980b8750",
   "metadata": {},
   "outputs": [
    {
     "name": "stdout",
     "output_type": "stream",
     "text": [
      "this is my assignment of 10 feb\n",
      "\n"
     ]
    }
   ],
   "source": [
    "# syntax for file opening  : f= open(\"file name\",\"mode\")\n",
    "# file name : it contain the name of file name   such that 10 feb.txt\n",
    "# mode : it contain mode of opening or closing file  such that r\n",
    "f= open(\"10 feb.txt\",\"r\")\n",
    "file = f.read()\n",
    "print(file)\n",
    "f.close()\n",
    "           \n",
    "# mode of opening a file are:\n",
    "# 1. read :\"r\"= it is used for read the file\n",
    "# 2. write:\"w\" = it is used for write the file \n",
    "# 3. append :\"a\" = it is used for append the file \n",
    "# 4. readbinary: \"rb\" = it is used for read binary file\n",
    "#5. writebinary: \"wb\" = it is used for write binary file\n",
    "#6. read and write  : \"rw\" = it is used for read and write file \n",
    "# 7. write and read: \"wr\" = it is used for write and read file"
   ]
  },
  {
   "cell_type": "code",
   "execution_count": 7,
   "id": "1c3b5bc7-058c-4676-89eb-1f13ea91e2e5",
   "metadata": {},
   "outputs": [],
   "source": [
    "#Q2. Why close() function is used? Why is it important to close a file?"
   ]
  },
  {
   "cell_type": "code",
   "execution_count": 14,
   "id": "8662e392-ecbe-4987-9fde-7d5c559fbce6",
   "metadata": {},
   "outputs": [
    {
     "name": "stdout",
     "output_type": "stream",
     "text": [
      "this is my assignment of 10 feb\n",
      "\n"
     ]
    }
   ],
   "source": [
    "# closed function is used to closd the opening file .\n",
    "# close function is  important becouse we have limited amount of storage thus  it is used\n",
    "# to utlize the space of memory if you are not closed the file then you will be sufffered from buffering .\n",
    "f= open(\"10 feb.txt\",\"r\")\n",
    "file = f.read()\n",
    "print(file)\n",
    "f.close()"
   ]
  },
  {
   "cell_type": "code",
   "execution_count": 9,
   "id": "e3647b9f-3dc3-4f46-a28e-f8894f2dbc11",
   "metadata": {},
   "outputs": [],
   "source": [
    "#Q3. Write a python program to create a text file. Write ‘I want to become a Data Scientist’ in that file. Then\n",
    "#close the file. Open this file and read the content of the file."
   ]
  },
  {
   "cell_type": "code",
   "execution_count": 20,
   "id": "15d0b23f-08c0-4548-8af4-c0d4aa4d189b",
   "metadata": {},
   "outputs": [
    {
     "name": "stdout",
     "output_type": "stream",
     "text": [
      "i want to become a data scientist\n"
     ]
    }
   ],
   "source": [
    "f = open(\"test1.txt\" , \"w\")\n",
    "f.write(\"i want to become a data scientist\")\n",
    "f.close()\n",
    "f = open(\"test1.txt\" , \"r\")\n",
    "file = f.read()\n",
    "    \n",
    "print(file)\n",
    "f.close()"
   ]
  },
  {
   "cell_type": "code",
   "execution_count": null,
   "id": "df0bea2a-306f-43d8-9879-309f4d70df18",
   "metadata": {},
   "outputs": [],
   "source": []
  },
  {
   "cell_type": "code",
   "execution_count": 22,
   "id": "ecdeb887-3b09-4a8c-b2bb-d32831b01dcd",
   "metadata": {},
   "outputs": [
    {
     "name": "stdout",
     "output_type": "stream",
     "text": [
      "my name is rohit patel \n",
      "i want to become a data scientist\n",
      "and also want to be a software developer\n"
     ]
    }
   ],
   "source": [
    "# read mode  :  in read mode  it read all content  in a file at a time\n",
    "f= open(\"read.txt\",\"r\")\n",
    "file =f.read()\n",
    "print(file)\n",
    "f.close()"
   ]
  },
  {
   "cell_type": "code",
   "execution_count": 37,
   "id": "8762ebad-a6e4-44cf-b154-2daac06b8611",
   "metadata": {},
   "outputs": [
    {
     "name": "stdout",
     "output_type": "stream",
     "text": [
      "my name is rohit patel \n",
      "\n",
      "i want to become a data scientist\n",
      "\n",
      "and also want to be a software developer\n"
     ]
    }
   ],
   "source": [
    "# readline : in this mode it read line by line all content in file \n",
    "f= open(\"read.txt\",\"r\")\n",
    "print(f.readline())\n",
    "print(f.readline())\n",
    "print(f.readline())\n",
    "f.close()\n"
   ]
  },
  {
   "cell_type": "code",
   "execution_count": 40,
   "id": "0ced3460-9c38-4ec3-affe-f6d31ec79e68",
   "metadata": {},
   "outputs": [
    {
     "name": "stdout",
     "output_type": "stream",
     "text": [
      "['my name is rohit patel \\n', 'i want to become a data scientist\\n', 'and also want to be a software developer']\n"
     ]
    }
   ],
   "source": [
    "# readlines : in this mode all content in text are read at a time in list format\n",
    "f= open(\"read.txt\",\"r\")\n",
    "print(f.readlines())\n",
    "\n",
    "f.close()\n"
   ]
  },
  {
   "cell_type": "code",
   "execution_count": null,
   "id": "5a4aa53d-3598-427c-8922-b556be36e7ff",
   "metadata": {},
   "outputs": [],
   "source": [
    "#Q5. Explain why with statement is used with open(). What is the advantage of using with statement and\n",
    "#open() together?"
   ]
  },
  {
   "cell_type": "code",
   "execution_count": 5,
   "id": "b24a712b-a88f-4bf5-bb9b-6a1057b976f4",
   "metadata": {},
   "outputs": [
    {
     "name": "stdout",
     "output_type": "stream",
     "text": [
      "i want to become a data scientist\n",
      "\n",
      "i want to become a data scientist\n",
      "\n"
     ]
    }
   ],
   "source": [
    "#In Python, with statement is used in exception handling to make the code cleaner and much more readable.\n",
    "    \n",
    "#advantage of with statement \n",
    "# we can not used close function while  we  read a file  by the help of  open function  \n",
    "# we must be used close function  \n",
    "# with statement \n",
    "with open(\"test3.txt\",\"r\") as f:\n",
    "    print(f.read())\n",
    "# open function \n",
    "f= open(\"test3.txt\",\"r\") \n",
    "file = f.read()\n",
    "print(file)\n",
    "f.close()"
   ]
  },
  {
   "cell_type": "code",
   "execution_count": 50,
   "id": "d2c08c1b-b40b-4638-884d-a35ee0770d3e",
   "metadata": {},
   "outputs": [],
   "source": [
    "#Q6. Explain the write() and writelines() functions. Give a suitable example."
   ]
  },
  {
   "cell_type": "code",
   "execution_count": 1,
   "id": "2c166380-79b1-432c-91aa-8e63fddd0d21",
   "metadata": {},
   "outputs": [],
   "source": [
    "# write: in this function it write all content in a file at a time \n",
    "f= open(\"test3.txt\",\"w\")\n",
    "f.write(\"i want to become a data scientist\")\n",
    "f.write(\"i belong to delhi ncr\")\n",
    "f.close()        \n",
    "#writeline() in this function it return a list of lines from the files\n",
    "f= open(\"test3.txt\",\"w\")\n",
    "f.writelines([\"i want to become a data scientist\\n\"])\n",
    "f.close()  \n"
   ]
  },
  {
   "cell_type": "code",
   "execution_count": null,
   "id": "cef4a667-667d-4801-8994-7773aef1c8eb",
   "metadata": {},
   "outputs": [],
   "source": []
  }
 ],
 "metadata": {
  "kernelspec": {
   "display_name": "Python 3 (ipykernel)",
   "language": "python",
   "name": "python3"
  },
  "language_info": {
   "codemirror_mode": {
    "name": "ipython",
    "version": 3
   },
   "file_extension": ".py",
   "mimetype": "text/x-python",
   "name": "python",
   "nbconvert_exporter": "python",
   "pygments_lexer": "ipython3",
   "version": "3.10.8"
  }
 },
 "nbformat": 4,
 "nbformat_minor": 5
}
